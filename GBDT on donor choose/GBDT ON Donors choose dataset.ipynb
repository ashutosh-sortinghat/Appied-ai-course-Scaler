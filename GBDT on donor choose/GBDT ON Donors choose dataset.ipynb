{
 "cells": [
  {
   "cell_type": "markdown",
   "metadata": {},
   "source": [
    "<!-- #### --  4 task ( problem ) ----\n",
    "    > responce coding for categorical data\n",
    "    > https://www.appliedaicourse.com/lecture/11/applied-machine-learning-online-course/2971/handling-categorical-and-numerical-features/3/module-3-foundations-of-natural-language-processing-and-machine-learning    \n",
    " -->"
   ]
  },
  {
   "cell_type": "markdown",
   "metadata": {
    "id": "jKMeoHjWN-3k"
   },
   "source": [
    "# <b>GBDT Assignment </b>"
   ]
  },
  {
   "cell_type": "markdown",
   "metadata": {},
   "source": [
    "<ol>\n",
    "    <li><strong>Apply GBDT on these feature sets</strong>\n",
    "        <ul>\n",
    "            <li><font color='red'>Set 1</font>: categorical(instead of one hot encoding, try <a href='https://www.appliedaicourse.com/course/applied-ai-course-online/lessons/handling-categorical-and-numerical-features/'>response coding</a>: use probability values), numerical features + project_title(TFIDF)+  preprocessed_eassay (TFIDF)+sentiment Score of eassay(check the bellow example, include all 4 values as 4 features)</li>\n",
    "            <li><font color='red'>Set 2</font>: categorical(instead of one hot encoding, try <a href='https://www.appliedaicourse.com/course/applied-ai-course-online/lessons/handling-categorical-and-numerical-features/'>response coding</a>: use probability values), numerical features + project_title(TFIDF W2V)+  preprocessed_eassay (TFIDF W2V)</li>        \n",
    "    </li>\n",
    "    <li> Here in response encoding you need to apply the <strong>laplase smoothing</strong> value for test set. Laplase smoothing means, If test point is present in test but not in train then you need to apply default 0.5 as probability value for that data point (Refer the Response Encoding Image from above cell) </li>\n",
    "    <li>Please use atleast <strong> 35k </strong> data points </li></ul>\n",
    "    <li><strong>The hyper paramter tuning (Consider any two hyper parameters)</strong>\n",
    "        <ul>\n",
    "    <li>Find the best hyper parameter which will give the maximum <a href='https://www.appliedaicourse.com/course/applied-ai-course-online/lessons/receiver-operating-characteristic-curve-roc-curve-and-auc-1/'>AUC</a> value</li>\n",
    "    <li>find the best hyper paramter using k-fold cross validation/simple cross validation data</li>\n",
    "    <li>use gridsearch cv or randomsearch cv or you can write your own for loops to do this task</li>\n",
    "        </ul>\n",
    "    </li>\n",
    "    <li>\n",
    "    <strong>Representation of results</strong>\n",
    "        <ul>\n",
    "    <li>You need to plot the performance of model both on train data and cross validation data for each hyper parameter, like shown in the figure\n",
    "    <img src='https://i.imgur.com/Gp2DQmh.jpg' width=500px> with X-axis as <strong>n_estimators</strong>, Y-axis as <strong>max_depth</strong>, and Z-axis as <strong>AUC Score</strong> , we have given the notebook which explains how to plot this 3d plot, you can find it in the same drive <i>3d_scatter_plot.ipynb</i></li>\n",
    "            <p style=\"text-align:center;font-size:30px;color:red;\"><strong>or</strong></p> <br>\n",
    "    <li>You need to plot the performance of model both on train data and cross validation data for each hyper parameter, like shown in the figure\n",
    "    <img src='https://i.imgur.com/fgN9aUP.jpg' width=300px> <a href='https://seaborn.pydata.org/generated/seaborn.heatmap.html'>seaborn heat maps</a> with rows as <strong>n_estimators</strong>, columns as <strong>max_depth</strong>, and values inside the cell representing <strong>AUC Score</strong> </li>\n",
    "    <li>You choose either of the plotting techniques out of 3d plot or heat map</li>\n",
    "    <li>Once after you found the best hyper parameter, you need to train your model with it, and find the AUC on test data and plot the ROC curve on both train and test.\n",
    "        Make sure that you are using predict_proba method to calculate AUC curves, because AUC is calcualted on class probabilities and not on class labels.\n",
    "    <img src='https://i.imgur.com/wMQDTFe.jpg' width=300px></li>\n",
    "    <li>Along with plotting ROC curve, you need to print the <a href='https://www.appliedaicourse.com/course/applied-ai-course-online/lessons/confusion-matrix-tpr-fpr-fnr-tnr-1/'>confusion matrix</a> with predicted and original labels of test data points\n",
    "    <img src='https://i.imgur.com/IdN5Ctv.png' width=300px></li>\n",
    "            </ul>\n",
    "    <br>\n",
    "    <li>You need to summarize the results at the end of the notebook, summarize it in the table format\n",
    "        <img src='http://i.imgur.com/YVpIGGE.jpg' width=400px>\n",
    "    </li>\n",
    "</ol>"
   ]
  },
  {
   "cell_type": "markdown",
   "metadata": {},
   "source": [
    "# Few Notes"
   ]
  },
  {
   "cell_type": "markdown",
   "metadata": {},
   "source": [
    "1. Use atleast 35k data points\n",
    "2. Use classifier.Predict_proba() method instead of predict() method while calculating roc_auc scores\n",
    "3. Be sure that you are using laplase smoothing in response encoding function. Laplase smoothing means applying the default (0.5) value to test data if the test data is not present in the train set\n"
   ]
  },
  {
   "cell_type": "code",
   "execution_count": 34,
   "metadata": {},
   "outputs": [],
   "source": [
    "import pandas as pd\n",
    "from sklearn.model_selection import train_test_split\n",
    "from sklearn.feature_extraction.text import TfidfVectorizer\n",
    "from sklearn.feature_extraction.text import CountVectorizer\n",
    "import numpy as np\n",
    "import seaborn as sns\n",
    "from sklearn.model_selection import GridSearchCV\n",
    "from sklearn.tree import DecisionTreeClassifier\n",
    "import matplotlib.pyplot as plt \n",
    "import pdb \n",
    "import lightgbm as lgb\n",
    "\n",
    "\n",
    "from sklearn.ensemble import GradientBoostingClassifier\n",
    "\n",
    "import tqdm\n",
    "from sklearn.metrics import confusion_matrix\n",
    "from sklearn.metrics import accuracy_score\n",
    "from sklearn.metrics import roc_auc_score \n",
    "from sklearn.metrics import roc_curve"
   ]
  },
  {
   "cell_type": "markdown",
   "metadata": {
    "id": "YMurhntCAooj"
   },
   "source": [
    "or else , you can use below code"
   ]
  },
  {
   "cell_type": "code",
   "execution_count": 2,
   "metadata": {
    "colab": {
     "base_uri": "https://localhost:8080/",
     "height": 34
    },
    "id": "YKZIvFYBxaaD",
    "outputId": "d9dcffbf-971d-4220-c03e-bf01cd81bdd4",
    "scrolled": false
   },
   "outputs": [
    {
     "name": "stdout",
     "output_type": "stream",
     "text": [
      "sentiment score for sentence 1 {'neg': 0.0, 'neu': 0.213, 'pos': 0.787, 'compound': 0.5719}\n",
      "sentiment score for sentence 2 {'neg': 0.756, 'neu': 0.244, 'pos': 0.0, 'compound': -0.4767}\n",
      "sentiment score for sentence 3 {'neg': 0.0, 'neu': 1.0, 'pos': 0.0, 'compound': 0.0}\n"
     ]
    }
   ],
   "source": [
    "import nltk\n",
    "from nltk.sentiment.vader import SentimentIntensityAnalyzer\n",
    "\n",
    "# nltk.download('vader_lexicon')\n",
    "\n",
    "sid = SentimentIntensityAnalyzer()\n",
    "\n",
    "sample_sentence_1='I am happy.'\n",
    "ss_1 = sid.polarity_scores(sample_sentence_1)\n",
    "print('sentiment score for sentence 1',ss_1)\n",
    "\n",
    "sample_sentence_2='I am sad.'\n",
    "ss_2 = sid.polarity_scores(sample_sentence_2)\n",
    "print('sentiment score for sentence 2',ss_2)\n",
    "\n",
    "sample_sentence_3='I am going to New Delhi tommorow.'\n",
    "ss_3 = sid.polarity_scores(sample_sentence_3)\n",
    "print('sentiment score for sentence 3',ss_3)\n"
   ]
  },
  {
   "cell_type": "markdown",
   "metadata": {
    "id": "r6FUMj5TN-3y"
   },
   "source": [
    "<h1> Decision Tree </h1>"
   ]
  },
  {
   "cell_type": "markdown",
   "metadata": {
    "id": "luEzcFrGiqLa"
   },
   "source": [
    "# <font color='red'> <b>Task - 1</b></font>"
   ]
  },
  {
   "cell_type": "markdown",
   "metadata": {
    "id": "QQmid3VAN-31"
   },
   "source": [
    "## 1.1 Loading Data"
   ]
  },
  {
   "cell_type": "code",
   "execution_count": 3,
   "metadata": {
    "id": "NqY4ES_3N-33"
   },
   "outputs": [],
   "source": [
    "#make sure you are loading atleast 50k datapoints\n",
    "#you can work with features of preprocessed_data.csv for the assignment.\n",
    "data = pd.read_csv('preprocessed_data.csv', nrows = 35000)"
   ]
  },
  {
   "cell_type": "code",
   "execution_count": 4,
   "metadata": {
    "scrolled": true
   },
   "outputs": [
    {
     "name": "stdout",
     "output_type": "stream",
     "text": [
      "<class 'pandas.core.frame.DataFrame'>\n",
      "RangeIndex: 35000 entries, 0 to 34999\n",
      "Data columns (total 9 columns):\n",
      " #   Column                                        Non-Null Count  Dtype  \n",
      "---  ------                                        --------------  -----  \n",
      " 0   school_state                                  35000 non-null  object \n",
      " 1   teacher_prefix                                35000 non-null  object \n",
      " 2   project_grade_category                        35000 non-null  object \n",
      " 3   teacher_number_of_previously_posted_projects  35000 non-null  int64  \n",
      " 4   project_is_approved                           35000 non-null  int64  \n",
      " 5   clean_categories                              35000 non-null  object \n",
      " 6   clean_subcategories                           35000 non-null  object \n",
      " 7   essay                                         35000 non-null  object \n",
      " 8   price                                         35000 non-null  float64\n",
      "dtypes: float64(1), int64(2), object(6)\n",
      "memory usage: 2.4+ MB\n"
     ]
    }
   ],
   "source": [
    "data.info()"
   ]
  },
  {
   "cell_type": "code",
   "execution_count": 5,
   "metadata": {
    "scrolled": true
   },
   "outputs": [
    {
     "data": {
      "text/html": [
       "<div>\n",
       "<style scoped>\n",
       "    .dataframe tbody tr th:only-of-type {\n",
       "        vertical-align: middle;\n",
       "    }\n",
       "\n",
       "    .dataframe tbody tr th {\n",
       "        vertical-align: top;\n",
       "    }\n",
       "\n",
       "    .dataframe thead th {\n",
       "        text-align: right;\n",
       "    }\n",
       "</style>\n",
       "<table border=\"1\" class=\"dataframe\">\n",
       "  <thead>\n",
       "    <tr style=\"text-align: right;\">\n",
       "      <th></th>\n",
       "      <th>school_state</th>\n",
       "      <th>teacher_prefix</th>\n",
       "      <th>project_grade_category</th>\n",
       "      <th>teacher_number_of_previously_posted_projects</th>\n",
       "      <th>project_is_approved</th>\n",
       "      <th>clean_categories</th>\n",
       "      <th>clean_subcategories</th>\n",
       "      <th>essay</th>\n",
       "      <th>price</th>\n",
       "    </tr>\n",
       "  </thead>\n",
       "  <tbody>\n",
       "    <tr>\n",
       "      <th>0</th>\n",
       "      <td>ca</td>\n",
       "      <td>mrs</td>\n",
       "      <td>grades_prek_2</td>\n",
       "      <td>53</td>\n",
       "      <td>1</td>\n",
       "      <td>math_science</td>\n",
       "      <td>appliedsciences health_lifescience</td>\n",
       "      <td>i fortunate enough use fairy tale stem kits cl...</td>\n",
       "      <td>725.05</td>\n",
       "    </tr>\n",
       "    <tr>\n",
       "      <th>1</th>\n",
       "      <td>ut</td>\n",
       "      <td>ms</td>\n",
       "      <td>grades_3_5</td>\n",
       "      <td>4</td>\n",
       "      <td>1</td>\n",
       "      <td>specialneeds</td>\n",
       "      <td>specialneeds</td>\n",
       "      <td>imagine 8 9 years old you third grade classroo...</td>\n",
       "      <td>213.03</td>\n",
       "    </tr>\n",
       "  </tbody>\n",
       "</table>\n",
       "</div>"
      ],
      "text/plain": [
       "  school_state teacher_prefix project_grade_category  \\\n",
       "0           ca            mrs          grades_prek_2   \n",
       "1           ut             ms             grades_3_5   \n",
       "\n",
       "   teacher_number_of_previously_posted_projects  project_is_approved  \\\n",
       "0                                            53                    1   \n",
       "1                                             4                    1   \n",
       "\n",
       "  clean_categories                 clean_subcategories  \\\n",
       "0     math_science  appliedsciences health_lifescience   \n",
       "1     specialneeds                        specialneeds   \n",
       "\n",
       "                                               essay   price  \n",
       "0  i fortunate enough use fairy tale stem kits cl...  725.05  \n",
       "1  imagine 8 9 years old you third grade classroo...  213.03  "
      ]
     },
     "execution_count": 5,
     "metadata": {},
     "output_type": "execute_result"
    }
   ],
   "source": [
    "data.head(2)"
   ]
  },
  {
   "cell_type": "code",
   "execution_count": 6,
   "metadata": {},
   "outputs": [],
   "source": [
    "# saperating yi's\n",
    "data_target = data['project_is_approved'].values\n",
    "data1 = data\n",
    "data = data.drop(['project_is_approved'],axis=1)\n",
    "\n"
   ]
  },
  {
   "cell_type": "code",
   "execution_count": 7,
   "metadata": {},
   "outputs": [
    {
     "data": {
      "text/plain": [
       "1    29629\n",
       "0     5371\n",
       "Name: project_is_approved, dtype: int64"
      ]
     },
     "execution_count": 7,
     "metadata": {},
     "output_type": "execute_result"
    }
   ],
   "source": [
    "# data distribution\n",
    "\n",
    "data1['project_is_approved'].value_counts()"
   ]
  },
  {
   "cell_type": "code",
   "execution_count": 8,
   "metadata": {},
   "outputs": [
    {
     "data": {
      "text/plain": [
       "(35000,)"
      ]
     },
     "execution_count": 8,
     "metadata": {},
     "output_type": "execute_result"
    }
   ],
   "source": [
    "data_target.shape"
   ]
  },
  {
   "cell_type": "markdown",
   "metadata": {},
   "source": [
    "<h2>1.2 Splitting data into Train and cross validation(or test): Stratified Sampling</h2>\n"
   ]
  },
  {
   "cell_type": "code",
   "execution_count": 9,
   "metadata": {},
   "outputs": [],
   "source": [
    "# 1. Split your data. train test split\n",
    "from sklearn.model_selection import train_test_split\n",
    "\n",
    "\n",
    "X_train, X_test, y_train, y_test = train_test_split(data,data_target, test_size=0.20, stratify=data_target)\n",
    "X_train1, X_cv, y_train1, y_cv = train_test_split(X_train, y_train, test_size=0.20, stratify=y_train)"
   ]
  },
  {
   "cell_type": "code",
   "execution_count": 10,
   "metadata": {},
   "outputs": [
    {
     "data": {
      "text/plain": [
       "((28000, 8), (7000, 8), (35000, 8), (28000,))"
      ]
     },
     "execution_count": 10,
     "metadata": {},
     "output_type": "execute_result"
    }
   ],
   "source": [
    "X_train.shape, X_test.shape, data.shape,y_train.shape\n"
   ]
  },
  {
   "cell_type": "markdown",
   "metadata": {},
   "source": [
    "### Text Feature  - \" essay \"\n",
    "#### 3. perform tfidf vectorization. "
   ]
  },
  {
   "cell_type": "code",
   "execution_count": 11,
   "metadata": {},
   "outputs": [
    {
     "name": "stdout",
     "output_type": "stream",
     "text": [
      "After vectorizations\n",
      "(28000, 5000) (28000,)\n"
     ]
    }
   ],
   "source": [
    "# tfidf for feature \"essay\" used for set-1\n",
    "\n",
    "vectorizer = TfidfVectorizer(ngram_range= (1,4), max_features=5000, min_df=10)\n",
    "vectorizer_ess = vectorizer.fit(X_train['essay'].values)\n",
    "\n",
    "X_tr_essay_tfidf = vectorizer_ess.transform(X_train['essay'].values)\n",
    "X_te_essay_tfidf = vectorizer_ess.transform(X_test['essay'].values)\n",
    "X_cv_essay_tfidf = vectorizer_ess.transform(X_cv['essay'].values)\n",
    "\n",
    "print(\"After vectorizations\")\n",
    "print(X_tr_essay_tfidf.shape, y_train.shape)"
   ]
  },
  {
   "cell_type": "code",
   "execution_count": 12,
   "metadata": {},
   "outputs": [
    {
     "data": {
      "text/plain": [
       "scipy.sparse.csr.csr_matrix"
      ]
     },
     "execution_count": 12,
     "metadata": {},
     "output_type": "execute_result"
    }
   ],
   "source": [
    "# X_tr_essay_tfidf = X_tr_essay_tfidf.toarray()\n",
    "# X_tr_essay_tfidf = X_te_essay_tfidf.toarray()\n",
    "# X_cv_essay_tfidf = X_cv_essay_tfidf.toarray()\n",
    "type(X_tr_essay_tfidf)"
   ]
  },
  {
   "cell_type": "markdown",
   "metadata": {},
   "source": [
    "  #### 4. perform tfidf w2v vectorization of text data."
   ]
  },
  {
   "cell_type": "markdown",
   "metadata": {},
   "source": [
    "**loading glove words**"
   ]
  },
  {
   "cell_type": "code",
   "execution_count": 13,
   "metadata": {},
   "outputs": [],
   "source": [
    "#please use below code to load glove vectors\n",
    "import pickle\n",
    "with open('glove_vectors', 'rb') as f:\n",
    "    model = pickle.load(f)\n",
    "    glove_words =  set(model.keys())"
   ]
  },
  {
   "cell_type": "code",
   "execution_count": 14,
   "metadata": {},
   "outputs": [],
   "source": [
    "# part2 - average Word2Vec\n",
    "# compute tfidf-word2vec   for each review.\n",
    "def cal_tfidf_word2vec(essay,vectorizer):  # essay is series\n",
    "    \n",
    "    # we are converting a dictionary with word as a key, and the idf as a value\n",
    "    dictionary = dict(zip(vectorizer.get_feature_names(), list(vectorizer.idf_)))\n",
    "    tfidf_words = set(vectorizer.get_feature_names())\n",
    "\n",
    "    \n",
    "    tfidf_w2v_vectors = []; # the avg-w2v for each sentence/review is stored in this list\n",
    "    \n",
    "    for sentence in essay.values: # for each review/sentence\n",
    "        vector = np.zeros(300) # as word vectors are of zero length\n",
    "        tf_idf_weight =0; # num of words with a valid vector in the sentence/review\n",
    "        \n",
    "        for word in sentence.split(): # for each word in a review/sentence\n",
    "            if (word in glove_words) and (word in tfidf_words):\n",
    "                vec = model[word] # getting the vector for each word\n",
    "                \n",
    "                # here we are multiplying idf value(dictionary[word]) and the tf value((sentence.count(word)/len(sentence.split())))\n",
    "                tf_idf = dictionary[word]*(sentence.count(word)/len(sentence.split())) # getting the tfidf value for each word\n",
    "                vector += (vec * tf_idf) # calculating tfidf weighted w2v\n",
    "                tf_idf_weight += tf_idf\n",
    "                \n",
    "        if tf_idf_weight != 0:\n",
    "            vector /= tf_idf_weight\n",
    "        tfidf_w2v_vectors.append(vector)\n",
    "        \n",
    "        \n",
    "    return np.array(tfidf_w2v_vectors)\n",
    "\n",
    "\n"
   ]
  },
  {
   "cell_type": "code",
   "execution_count": 15,
   "metadata": {},
   "outputs": [
    {
     "name": "stdout",
     "output_type": "stream",
     "text": [
      "essay feature as tfidf_w2v : (28000, 300) (7000, 300) (5600, 300)\n",
      "Wall time: 1min 54s\n"
     ]
    }
   ],
   "source": [
    "%%time\n",
    "\n",
    "X_tr_essay_tfidf_w2v = cal_tfidf_word2vec(X_train['essay'], vectorizer_ess)\n",
    "X_te_essay_tfidf_w2v = cal_tfidf_word2vec(X_test['essay'], vectorizer_ess)\n",
    "X_cv_essay_tfidf_w2v = cal_tfidf_word2vec(X_cv['essay'], vectorizer_ess)\n",
    "\n",
    "print(\"essay feature as tfidf_w2v :\",X_tr_essay_tfidf_w2v.shape, X_te_essay_tfidf_w2v.shape, X_cv_essay_tfidf_w2v.shape)\n"
   ]
  },
  {
   "cell_type": "code",
   "execution_count": 16,
   "metadata": {},
   "outputs": [
    {
     "name": "stdout",
     "output_type": "stream",
     "text": [
      "essay feature as tfidf_w2v : (28000, 300) (7000, 300) (5600, 300)\n"
     ]
    }
   ],
   "source": [
    "print(\"essay feature as tfidf_w2v :\",X_tr_essay_tfidf_w2v.shape, X_te_essay_tfidf_w2v.shape, X_cv_essay_tfidf_w2v.shape)\n"
   ]
  },
  {
   "cell_type": "markdown",
   "metadata": {},
   "source": [
    "## BOW for 5 features\n",
    "5. perform encoding of categorical features."
   ]
  },
  {
   "cell_type": "markdown",
   "metadata": {},
   "source": [
    "#### response coding "
   ]
  },
  {
   "cell_type": "code",
   "execution_count": 17,
   "metadata": {},
   "outputs": [],
   "source": [
    "def rc_table(data,y):\n",
    "    word_dict_of_prob = {}\n",
    "    table = []\n",
    "    c0,c1 = [],[]  # count of x for both class \n",
    "    uni_x = list(set(data))\n",
    "    \n",
    "    data_y_0 = [x for i,x in enumerate(data) if y[i] == 0 ]  \n",
    "    data_y_1 = [x  for i,x in enumerate(data) if y[i] == 1 ] \n",
    "    \n",
    "    for x in uni_x:\n",
    "        \n",
    "        c0.append(data_y_0.count(x))\n",
    "        c1.append(data_y_1.count(x))\n",
    "    \n",
    "    for i,x in enumerate(uni_x):\n",
    "        try:\n",
    "            prob_x_0 = c0[i]/(c0[i]+c1[i])\n",
    "            prob_x_1 = c1[i]/(c0[i]+c1[i])  \n",
    "            table.append([prob_x_0, prob_x_1])\n",
    "        except:\n",
    "            pdb.set_trace()\n",
    "        \n",
    "    for i, x in enumerate(data):\n",
    "        \n",
    "        for i2, j in enumerate(uni_x):\n",
    "            if x == j :\n",
    "                word_dict_of_prob[x] = [table[i2][0],table[i2][1]]\n",
    " \n",
    "\n",
    "    return word_dict_of_prob\n",
    "\n",
    "def response_coding(word_dict_of_prob, data):  # taking dictionary type and series type value\n",
    "    \n",
    "    rc_data = []\n",
    "    uni_words = word_dict_of_prob.keys()\n",
    "    \n",
    "    for i in data:\n",
    "        if i in uni_words:\n",
    "            rc_data.append(word_dict_of_prob[i])\n",
    "            \n",
    "        else :\n",
    "            rc_data.append([0.5,0.5])\n",
    "    \n",
    "    return np.array(rc_data)\n",
    "    \n",
    "    \n",
    "    "
   ]
  },
  {
   "cell_type": "code",
   "execution_count": 18,
   "metadata": {},
   "outputs": [],
   "source": [
    "# word_dict_of_prob = rc_table(X_train['school_state'].values[:100], y_train[:100])\n",
    "# # word_dict_of_prob\n",
    "# responce_codeing(word_dict_of_prob, X_train['school_state'].values[100:1000]) "
   ]
  },
  {
   "cell_type": "code",
   "execution_count": 19,
   "metadata": {},
   "outputs": [],
   "source": [
    "# data.head()"
   ]
  },
  {
   "cell_type": "code",
   "execution_count": 20,
   "metadata": {},
   "outputs": [
    {
     "data": {
      "text/plain": [
       "((28000, 2), (28000, 2), (28000, 2), (28000, 2), (28000, 2))"
      ]
     },
     "execution_count": 20,
     "metadata": {},
     "output_type": "execute_result"
    }
   ],
   "source": [
    "#responce encoding of 5 feature in data\n",
    "\n",
    "# responce encoding of School state\n",
    "\n",
    "word_dict_of_prob = rc_table(X_train['school_state'].values, y_train) # return word_dict_of_prob for both class\n",
    "\n",
    "X_tr_state_rc = response_coding(word_dict_of_prob, X_train['school_state'].values)\n",
    "X_te_state_rc = response_coding(word_dict_of_prob, X_test['school_state'].values)\n",
    "X_cv_state_rc = response_coding(word_dict_of_prob, X_cv['school_state'].values)\n",
    "\n",
    "\n",
    "# responce encoding of teacher prefix\n",
    "word_dict_of_prob = rc_table(X_train['teacher_prefix'].values, y_train)\n",
    "\n",
    "X_tr_teacher_rc = response_coding(word_dict_of_prob, X_train['teacher_prefix'].values)\n",
    "X_te_teacher_rc = response_coding(word_dict_of_prob, X_test['teacher_prefix'].values)\n",
    "X_cv_teacher_rc = response_coding(word_dict_of_prob, X_cv['teacher_prefix'].values)\n",
    "\n",
    "# responce encoding of project grade category\n",
    "word_dict_of_prob = rc_table(X_train['project_grade_category'].values, y_train)\n",
    "\n",
    "X_tr_grade_rc = response_coding(word_dict_of_prob, X_train['project_grade_category'].values)\n",
    "X_te_grade_rc = response_coding(word_dict_of_prob, X_test['project_grade_category'].values)\n",
    "X_cv_grade_rc = response_coding(word_dict_of_prob, X_cv['project_grade_category'].values)\n",
    "\n",
    "# responce encoding of clean_subcategories\n",
    "\n",
    "word_dict_of_prob = rc_table(X_train['clean_categories'].values, y_train)\n",
    "\n",
    "X_tr_cate_rc = response_coding(word_dict_of_prob, X_train['clean_categories'].values)\n",
    "X_te_cate_rc = response_coding(word_dict_of_prob, X_test['clean_categories'].values)\n",
    "X_cv_cate_rc = response_coding(word_dict_of_prob, X_cv['clean_categories'].values)\n",
    "\n",
    "\n",
    "\n",
    "# responce encoding of clean_subcategories\n",
    "\n",
    "word_dict_of_prob = rc_table(X_train['clean_subcategories'].values, y_train)\n",
    "\n",
    "X_tr_sub_cate_rc = response_coding(word_dict_of_prob, X_train['clean_subcategories'].values)\n",
    "X_te_sub_cate_rc = response_coding(word_dict_of_prob, X_test['clean_subcategories'].values)\n",
    "X_cv_sub_cate_rc = response_coding(word_dict_of_prob, X_cv['clean_subcategories'].values)\n",
    "\n",
    "\n",
    "\n",
    "# 5-responce encoding features\n",
    "X_tr_state_rc.shape, X_tr_teacher_rc.shape, X_tr_grade_rc.shape, X_tr_cate_rc.shape, X_tr_sub_cate_rc.shape"
   ]
  },
  {
   "cell_type": "markdown",
   "metadata": {},
   "source": [
    "#### Normalization \n",
    "6. perform encoding of numerical features"
   ]
  },
  {
   "cell_type": "code",
   "execution_count": 21,
   "metadata": {
    "scrolled": true
   },
   "outputs": [
    {
     "data": {
      "text/plain": [
       "((28000, 1), (28000, 1))"
      ]
     },
     "execution_count": 21,
     "metadata": {},
     "output_type": "execute_result"
    }
   ],
   "source": [
    "# normalization of 2 numerical features - price and project_posted_by teacher\n",
    "from sklearn.preprocessing import Normalizer\n",
    "\n",
    "\n",
    "# normalization of numerical features - price\n",
    "normalizer = Normalizer()\n",
    "normalizer.fit(data['price'].values.reshape(1,-1))      # normalizer.fit(X_train['price'].values) # showing error as Reshape your data either using array.reshape(-1, 1) or using array.reshape(1, -1)  \n",
    "\n",
    "X_tr_price_norm = normalizer.transform(X_train['price'].values.reshape(-1,1))\n",
    "X_te_price_norm = normalizer.transform(X_test['price'].values.reshape(-1,1))\n",
    "X_cv_price_norm = normalizer.transform(X_cv['price'].values.reshape(-1,1))\n",
    "\n",
    "\n",
    "\n",
    "# normalization of numerical features - teacher_number_of_previously_posted_projects\n",
    "normalizer = Normalizer()\n",
    "normalizer.fit(data['teacher_number_of_previously_posted_projects'].values.reshape(1,-1))\n",
    "\n",
    "X_tr_projects_norm = normalizer.transform(X_train['teacher_number_of_previously_posted_projects'].values.reshape(-1,1))\n",
    "X_te_projects_norm = normalizer.transform(X_test['teacher_number_of_previously_posted_projects'].values.reshape(-1,1))\n",
    "X_cv_projects_norm = normalizer.transform(X_cv['teacher_number_of_previously_posted_projects'].values.reshape(-1,1))\n",
    "\n",
    "\n",
    "X_tr_price_norm.shape,X_tr_projects_norm.shape"
   ]
  },
  {
   "cell_type": "markdown",
   "metadata": {},
   "source": [
    "#### sentiment analyzer for text data \n",
    "1. calculate sentiment scores for the essay feature "
   ]
  },
  {
   "cell_type": "code",
   "execution_count": 22,
   "metadata": {},
   "outputs": [
    {
     "data": {
      "text/plain": [
       "((28000, 4), (7000, 4), (5600, 4))"
      ]
     },
     "execution_count": 22,
     "metadata": {},
     "output_type": "execute_result"
    }
   ],
   "source": [
    "# sentiment analyzer \n",
    "\n",
    "sid = SentimentIntensityAnalyzer()\n",
    "\n",
    "def sentiment_score(analyzer_obj, data):\n",
    "    sentiment_score = []\n",
    "    \n",
    "    for sentence in data.values:\n",
    "        \n",
    "        senti = sid.polarity_scores(sentence)    \n",
    "        #sentiment_score = np.append(sentiment_score,list(senti.values()))\n",
    "        sentiment_score.append(list(senti.values()))\n",
    "\n",
    "    \n",
    "    return np.array(sentiment_score)\n",
    "\n",
    "X_tr_sentiment_score = sentiment_score(sid, X_train['essay'])\n",
    "X_te_sentiment_score = sentiment_score(sid, X_test['essay'])\n",
    "X_cv_sentiment_score = sentiment_score(sid, X_cv['essay'])\n",
    "\n",
    "X_tr_sentiment_score.shape ,X_te_sentiment_score.shape , X_cv_sentiment_score.shape "
   ]
  },
  {
   "cell_type": "markdown",
   "metadata": {},
   "source": [
    "#### making 2 set with diff-2 feature\n",
    "\n",
    "    Set 1: categorical, numerical features + preprocessed_essay (TFIDF W2V) + Sentiment scores(preprocessed_essay) + responce coding\n",
    "\n",
    "\n",
    "    Set 2: categorical, numerical features + preprocessed_essay (TFIDF ) + Sentiment scores(preprocessed_essay) + responce coding"
   ]
  },
  {
   "cell_type": "code",
   "execution_count": 23,
   "metadata": {},
   "outputs": [
    {
     "name": "stdout",
     "output_type": "stream",
     "text": [
      "Final Data matrix for set 1\n",
      "(28000, 5016) (7000, 5016) (5600, 5016)\n",
      "====================================================================================================\n"
     ]
    }
   ],
   "source": [
    "from scipy.sparse import hstack\n",
    "# for set 1 - categorical, numerical features + preprocessed_essay (TFIDF) + Sentiment scores\n",
    "\n",
    "S1_X_tr = hstack((X_tr_state_rc, X_tr_teacher_rc, X_tr_grade_rc, X_tr_cate_rc, X_tr_sub_cate_rc, X_tr_sentiment_score, X_tr_projects_norm, X_tr_price_norm, X_tr_essay_tfidf)).tocsr()\n",
    "S1_X_te = hstack((X_te_state_rc, X_te_teacher_rc, X_te_grade_rc, X_te_cate_rc, X_te_sub_cate_rc, X_te_sentiment_score, X_te_projects_norm, X_te_price_norm, X_te_essay_tfidf)).tocsr()\n",
    "S1_X_cv = hstack((X_cv_state_rc, X_cv_teacher_rc, X_cv_grade_rc, X_cv_cate_rc, X_cv_sub_cate_rc, X_cv_sentiment_score, X_cv_projects_norm, X_cv_price_norm, X_cv_essay_tfidf)).tocsr()\n",
    "\n",
    "\n",
    "\n",
    "print(\"Final Data matrix for set 1\")\n",
    "print(S1_X_tr.shape, S1_X_te.shape, S1_X_cv.shape)\n",
    "print(\"=\"*100)\n",
    "\n",
    "\n"
   ]
  },
  {
   "cell_type": "code",
   "execution_count": 24,
   "metadata": {},
   "outputs": [
    {
     "name": "stdout",
     "output_type": "stream",
     "text": [
      "Final Data matrix for set 2\n",
      "(28000, 5016) (7000, 5016) (5600, 5016)\n",
      "====================================================================================================\n"
     ]
    }
   ],
   "source": [
    "\n",
    "\n",
    "# for set 2 -  categorical, numerical features + preprocessed_essay (TFIDF W2v) + Sentiment scores\n",
    "\n",
    "\n",
    "# merge two sparse matrices: https://stackoverflow.com/a/19710648/4084039\n",
    "S2_X_tr = np.hstack((X_tr_state_rc, X_tr_teacher_rc, X_tr_grade_rc, X_tr_cate_rc, X_tr_sub_cate_rc, X_tr_sentiment_score, X_tr_projects_norm, X_tr_price_norm, X_tr_essay_tfidf_w2v))\n",
    "S2_X_te = np.hstack((X_te_state_rc, X_te_teacher_rc, X_te_grade_rc, X_te_cate_rc, X_te_sub_cate_rc, X_te_sentiment_score, X_te_projects_norm, X_te_price_norm, X_te_essay_tfidf_w2v))\n",
    "S2_X_cv = np.hstack((X_cv_state_rc, X_cv_teacher_rc, X_cv_grade_rc, X_cv_cate_rc, X_cv_sub_cate_rc, X_cv_sentiment_score, X_cv_projects_norm, X_cv_price_norm, X_cv_essay_tfidf_w2v))\n",
    "\n",
    "print(\"Final Data matrix for set 2\")\n",
    "print(S1_X_tr.shape, S1_X_te.shape, S1_X_cv.shape)\n",
    "print(\"=\"*100)\n",
    "\n"
   ]
  },
  {
   "cell_type": "markdown",
   "metadata": {},
   "source": [
    "## modeling on set1 feature"
   ]
  },
  {
   "cell_type": "markdown",
   "metadata": {},
   "source": [
    "\n",
    "#### 9. Perform hyperparameter tuning and plot either heatmap or 3d plot."
   ]
  },
  {
   "cell_type": "code",
   "execution_count": 26,
   "metadata": {},
   "outputs": [],
   "source": []
  },
  {
   "cell_type": "code",
   "execution_count": 27,
   "metadata": {},
   "outputs": [
    {
     "data": {
      "text/plain": [
       "((23703,), (4297,), (28000, 5016), (28000,))"
      ]
     },
     "execution_count": 27,
     "metadata": {},
     "output_type": "execute_result"
    }
   ],
   "source": [
    "y_train[y_train==1].shape, y_train[y_train==0].shape, S1_X_tr.shape, y_train.shape"
   ]
  },
  {
   "cell_type": "code",
   "execution_count": null,
   "metadata": {},
   "outputs": [],
   "source": []
  },
  {
   "cell_type": "code",
   "execution_count": 28,
   "metadata": {},
   "outputs": [
    {
     "name": "stdout",
     "output_type": "stream",
     "text": [
      "best parameter {'max_depth': 30, 'min_child_samples': 80}\n",
      "Wall time: 16min 9s\n"
     ]
    }
   ],
   "source": [
    "%%time\n",
    "# hyperparameter with sklearn\n",
    "# took long time to execute\n",
    "\n",
    "parameters = {'max_depth': [1, 3, 10, 30], 'min_child_samples':[10, 20, 40, 80] }\n",
    "\n",
    "model = lgb.LGBMClassifier( class_weight= 'balanced' )\n",
    "clf_hyper = GridSearchCV(model, parameters, scoring =\"roc_auc\", n_jobs = -1).fit(S1_X_tr,y_train)\n",
    "\n",
    "print('best parameter',clf_hyper.best_params_)\n",
    "\n"
   ]
  },
  {
   "cell_type": "code",
   "execution_count": 29,
   "metadata": {},
   "outputs": [
    {
     "data": {
      "text/plain": [
       "(28000, 5016)"
      ]
     },
     "execution_count": 29,
     "metadata": {},
     "output_type": "execute_result"
    }
   ],
   "source": [
    "# clf_hyper.predict(X_train)\n",
    "S1_X_tr.shape"
   ]
  },
  {
   "cell_type": "code",
   "execution_count": 29,
   "metadata": {},
   "outputs": [
    {
     "name": "stdout",
     "output_type": "stream",
     "text": [
      "best parameter {'max_depth': 30, 'min_child_samples': 80}\n",
      "0.8607903222830907 0.6569168409137902\n"
     ]
    }
   ],
   "source": [
    "# without reg_lambda model is overfitting , hence we manually hyper-tune reg_lambda parameter \n",
    "\n",
    "\n",
    "print('best parameter',clf_hyper.best_params_)\n",
    "train_auc = roc_auc_score(y_train, clf_hyper.predict(S1_X_tr))\n",
    "test_auc = roc_auc_score(y_test, clf_hyper.predict(S1_X_te))\n",
    "\n",
    "print(train_auc, test_auc)"
   ]
  },
  {
   "cell_type": "markdown",
   "metadata": {},
   "source": [
    "### best model\n",
    "\n",
    "{'max_depth': 30, 'min_data_in_leaf': 40}"
   ]
  },
  {
   "cell_type": "code",
   "execution_count": 33,
   "metadata": {},
   "outputs": [
    {
     "data": {
      "text/plain": [
       "(28000, 5016)"
      ]
     },
     "execution_count": 33,
     "metadata": {},
     "output_type": "execute_result"
    }
   ],
   "source": [
    "#shape of dataset\n",
    "\n",
    "S1_X_tr.shape"
   ]
  },
  {
   "cell_type": "code",
   "execution_count": 42,
   "metadata": {},
   "outputs": [
    {
     "name": "stdout",
     "output_type": "stream",
     "text": [
      "train auc :- 0.6831163724946182 test auc :- 0.626181156674089\n",
      "Wall time: 27.3 s\n"
     ]
    }
   ],
   "source": [
    "%%time\n",
    "\n",
    "# best model with lightGbm  ref - https://www.kaggle.com/code/prashant111/lightgbm-classifier-in-python/notebook ; https://lightgbm.readthedocs.io/en/latest/pythonapi/lightgbm.LGBMClassifier.html\n",
    "best_clf = lgb.LGBMClassifier(reg_lambda = 10000, max_depth =30, min_child_samples = 80 ,class_weight= 'balanced',  n_estimators= 100  )\n",
    "best_clf.fit(S1_X_tr,y_train)\n",
    "\n",
    "#predicting class\n",
    "tr_y_pred = best_clf.predict(S1_X_tr)\n",
    "te_y_pred = best_clf.predict(S1_X_te)\n",
    "\n",
    "# predicting probability\n",
    "tr_y_prob = best_clf.predict_proba(S1_X_tr)\n",
    "te_y_prob = best_clf.predict_proba(S1_X_te)\n",
    "\n",
    "train_auc = roc_auc_score(y_train, tr_y_pred)\n",
    "test_auc = roc_auc_score(y_test, te_y_pred)\n",
    "\n",
    "print(\"train auc :-\",train_auc,\"test auc :-\",test_auc)"
   ]
  },
  {
   "cell_type": "code",
   "execution_count": 43,
   "metadata": {},
   "outputs": [
    {
     "name": "stdout",
     "output_type": "stream",
     "text": [
      "train auc :- 0.6831163724946182 test auc :- 0.626181156674089\n"
     ]
    }
   ],
   "source": [
    "print(\"train auc :-\",train_auc,\"test auc :-\",test_auc) "
   ]
  },
  {
   "cell_type": "markdown",
   "metadata": {},
   "source": [
    "### 1.3 Representation of results"
   ]
  },
  {
   "cell_type": "markdown",
   "metadata": {},
   "source": [
    "#### Heatmap on mean_test_score  \n",
    "    correnponding to the each hyperparameter"
   ]
  },
  {
   "cell_type": "code",
   "execution_count": 45,
   "metadata": {},
   "outputs": [
    {
     "ename": "NameError",
     "evalue": "name 'clf_hyper' is not defined",
     "output_type": "error",
     "traceback": [
      "\u001b[1;31m---------------------------------------------------------------------------\u001b[0m",
      "\u001b[1;31mNameError\u001b[0m                                 Traceback (most recent call last)",
      "\u001b[1;32m<ipython-input-45-0c72e34d5fdd>\u001b[0m in \u001b[0;36m<module>\u001b[1;34m\u001b[0m\n\u001b[0;32m      1\u001b[0m \u001b[1;31m# reshaping 'mean_test_score' in (4,5) for heatmap\u001b[0m\u001b[1;33m\u001b[0m\u001b[1;33m\u001b[0m\u001b[1;33m\u001b[0m\u001b[0m\n\u001b[1;32m----> 2\u001b[1;33m \u001b[0mcv_accu\u001b[0m \u001b[1;33m=\u001b[0m \u001b[0mclf_hyper\u001b[0m\u001b[1;33m.\u001b[0m\u001b[0mcv_results_\u001b[0m\u001b[1;33m[\u001b[0m\u001b[1;34m'mean_test_score'\u001b[0m\u001b[1;33m]\u001b[0m\u001b[1;33m\u001b[0m\u001b[1;33m\u001b[0m\u001b[0m\n\u001b[0m\u001b[0;32m      3\u001b[0m \u001b[0mcv_accu\u001b[0m \u001b[1;33m=\u001b[0m \u001b[0mnp\u001b[0m\u001b[1;33m.\u001b[0m\u001b[0mreshape\u001b[0m\u001b[1;33m(\u001b[0m\u001b[0mcv_accu\u001b[0m\u001b[1;33m,\u001b[0m \u001b[1;33m(\u001b[0m\u001b[1;36m4\u001b[0m\u001b[1;33m,\u001b[0m\u001b[1;36m4\u001b[0m\u001b[1;33m)\u001b[0m\u001b[1;33m)\u001b[0m\u001b[1;33m\u001b[0m\u001b[1;33m\u001b[0m\u001b[0m\n\u001b[0;32m      4\u001b[0m \u001b[0mcv_accu\u001b[0m\u001b[1;33m.\u001b[0m\u001b[0mshape\u001b[0m\u001b[1;33m\u001b[0m\u001b[1;33m\u001b[0m\u001b[0m\n",
      "\u001b[1;31mNameError\u001b[0m: name 'clf_hyper' is not defined"
     ]
    }
   ],
   "source": [
    "# reshaping 'mean_test_score' in (4,5) for heatmap \n",
    "cv_accu = clf_hyper.cv_results_['mean_test_score']\n",
    "cv_accu = np.reshape(cv_accu, (4,4))\n",
    "cv_accu.shape"
   ]
  },
  {
   "cell_type": "code",
   "execution_count": 132,
   "metadata": {},
   "outputs": [
    {
     "data": {
      "image/png": "[encoded data removed]",
      "text/plain": [
       "<Figure size 432x288 with 2 Axes>"
      ]
     },
     "metadata": {},
     "output_type": "display_data"
    }
   ],
   "source": [
    "\n",
    "np.random.seed(0)\n",
    "sns.set_theme()\n",
    "\n",
    "pd_cv_accu = pd.DataFrame(cv_accu , columns = [1, 3, 10, 30], index =  [10, 20, 40, 80])\n",
    "\n",
    "# with ->  vmin= min(cv_accu), vmax= max(cv_accu)\n",
    "ax = sns.heatmap(pd_cv_accu, vmin=np.min(cv_accu), vmax=np.max(cv_accu))\n",
    "plt.xlabel(\"Depth\")\n",
    "plt.ylabel(\"min child samples \")\n",
    "plt.title(\"Heatmap on mean_test_score\")# to update - run it once\n",
    "\n",
    "plt.show()"
   ]
  },
  {
   "cell_type": "markdown",
   "metadata": {},
   "source": [
    "#### ROC plot for train and test data"
   ]
  },
  {
   "cell_type": "code",
   "execution_count": 39,
   "metadata": {},
   "outputs": [],
   "source": [
    "\n",
    "tr_fpr,tr_tpr,_ = roc_curve(y_train,tr_y_prob[:,1])\n",
    "te_fpr,te_tpr,_ = roc_curve(y_test,te_y_prob[:,1])\n"
   ]
  },
  {
   "cell_type": "code",
   "execution_count": 40,
   "metadata": {
    "scrolled": true
   },
   "outputs": [
    {
     "name": "stderr",
     "output_type": "stream",
     "text": [
      "No handles with labels found to put in legend.\n"
     ]
    },
    {
     "data": {
      "image/png": "[encoded data removed]",
      "text/plain": [
       "<Figure size 432x288 with 1 Axes>"
      ]
     },
     "metadata": {},
     "output_type": "display_data"
    }
   ],
   "source": [
    "\n",
    "\n",
    "plt.plot(tr_fpr,tr_tpr)\n",
    "plt.plot(te_fpr,te_tpr)\n",
    "plt.xlabel(\"fpr rate\")\n",
    "plt.ylabel(\"tpr rate\")\n",
    "\n",
    "plt.title(\"roc curve for donor data \")\n",
    "plt.legend()\n",
    "plt.grid()\n",
    "plt.show()"
   ]
  },
  {
   "cell_type": "markdown",
   "metadata": {},
   "source": [
    "#### confusion matrix "
   ]
  },
  {
   "cell_type": "code",
   "execution_count": 41,
   "metadata": {
    "scrolled": false
   },
   "outputs": [
    {
     "data": {
      "text/plain": [
       "(array([[ 3347,   950],\n",
       "        [ 6343, 17360]], dtype=int64),\n",
       " array([[ 633,  441],\n",
       "        [1792, 4134]], dtype=int64))"
      ]
     },
     "execution_count": 41,
     "metadata": {},
     "output_type": "execute_result"
    }
   ],
   "source": [
    "ar = confusion_matrix(y_train,tr_y_pred)\n",
    "ar2 = confusion_matrix(y_test,te_y_pred)   \n",
    "tn, fp, fn, tp = confusion_matrix(y_train,tr_y_pred).ravel()\n",
    "ar,ar2"
   ]
  },
  {
   "cell_type": "markdown",
   "metadata": {},
   "source": [
    "#### 12. Find all the false positive data points and plot wordcloud of essay text and pdf of teacher_number_of_previously_posted_projects.\n"
   ]
  },
  {
   "cell_type": "code",
   "execution_count": 42,
   "metadata": {},
   "outputs": [
    {
     "data": {
      "text/plain": [
       "((950,), numpy.ndarray)"
      ]
     },
     "execution_count": 42,
     "metadata": {},
     "output_type": "execute_result"
    }
   ],
   "source": [
    "false_positive = []\n",
    "\n",
    "# false_positive.append   if x= 0 and y=1 \n",
    "\n",
    "for idx,x in enumerate(zip(y_train,tr_y_pred)):\n",
    "    \n",
    "    y_true,y_pred = x\n",
    "    \n",
    "    if y_true== 0 and y_pred == 1 :\n",
    "        false_positive.append(idx)\n",
    "    \n",
    "false_positive = np.array(false_positive)  \n",
    "false_positive.shape,type(false_positive)"
   ]
  },
  {
   "cell_type": "markdown",
   "metadata": {},
   "source": [
    "#### word cloud"
   ]
  },
  {
   "cell_type": "code",
   "execution_count": 43,
   "metadata": {
    "scrolled": false
   },
   "outputs": [
    {
     "name": "stdout",
     "output_type": "stream",
     "text": [
      "------------ WordCloud for all false pasitive(- negetive words actually classified as positive)words occur ------------\n"
     ]
    },
    {
     "data": {
      "image/png": "[encoded data removed]",
      "text/plain": [
       "<Figure size 576x576 with 1 Axes>"
      ]
     },
     "metadata": {},
     "output_type": "display_data"
    }
   ],
   "source": [
    "# Python program to generate WordCloud for all false positive datapoints'essay feacture\n",
    "\n",
    "# importing all necessary modules\n",
    "from wordcloud import WordCloud, STOPWORDS\n",
    "\n",
    "# Reads 'Youtube04-Eminem.csv' file\n",
    "df = false_positive\n",
    "\n",
    "comment_words = ''\n",
    "stopwords = set(STOPWORDS)\n",
    "print(\"------------ WordCloud for all false pasitive(- negetive words actually classified as positive)words occur ------------\")\n",
    "# iterate through the csv file\n",
    "for v in df:\n",
    "\tval = data1.iloc[v,6]\n",
    "\t# typecaste each val to string\n",
    "\tval = str(val)\n",
    "\n",
    "\t# split the value\n",
    "\ttokens = val.split()\n",
    "\t\n",
    "\t# Converts each token into lowercase\n",
    "\tfor i in range(len(tokens)):\n",
    "\t\ttokens[i] = tokens[i].lower()\n",
    "\n",
    "\tcomment_words += \" \".join(tokens)+\" \"\n",
    "\n",
    "wordcloud = WordCloud(width = 600, height = 600,\n",
    "\t\t\t\tbackground_color ='white',\n",
    "\t\t\t\tstopwords = stopwords,\n",
    "\t\t\t\tmin_font_size = 10).generate(comment_words)\n",
    "\n",
    "# plot the WordCloud image\t\t\t\t\t\n",
    "plt.figure(figsize = (8, 8), facecolor = None)\n",
    "plt.imshow(wordcloud)\n",
    "plt.axis(\"off\")\n",
    "plt.tight_layout(pad = 0)\n",
    "\n",
    "plt.show()\n"
   ]
  },
  {
   "cell_type": "markdown",
   "metadata": {},
   "source": [
    " here  - these are the negetive points by which we consider poject is_approved(=1) \n",
    " \n",
    "**observation**\n",
    "\n",
    "     - projects related to helth_wellness, applidsciences, early_development, literature_writing, literacy, heath are\n",
    "     pridicted positive(accepted of funders)  but it is actually negative.   \n"
   ]
  },
  {
   "cell_type": "markdown",
   "metadata": {},
   "source": [
    "#### Box plot \n",
    "    -  with the `price` of these `false positive data points`"
   ]
  },
  {
   "cell_type": "code",
   "execution_count": 45,
   "metadata": {},
   "outputs": [
    {
     "name": "stderr",
     "output_type": "stream",
     "text": [
      "C:\\ProgramData\\Anaconda3\\lib\\site-packages\\seaborn\\_core.py:1296: UserWarning: Horizontal orientation ignored with only `y` specified.\n",
      "  warnings.warn(single_var_warning.format(\"Horizontal\", \"y\"))\n"
     ]
    },
    {
     "data": {
      "text/plain": [
       "Text(0.5, 1.0, 'false positive point')"
      ]
     },
     "execution_count": 45,
     "metadata": {},
     "output_type": "execute_result"
    },
    {
     "data": {
      "image/png": "[encoded data removed]",
      "text/plain": [
       "<Figure size 432x288 with 1 Axes>"
      ]
     },
     "metadata": {},
     "output_type": "display_data"
    }
   ],
   "source": [
    "\n",
    "sns.set_theme(style=\"whitegrid\")\n",
    "tips = sns.load_dataset(\"tips\")\n",
    "ax = sns.boxplot(y=false_positive, orient = \"h\", palette=\"Set2\")\n",
    "plt.ylabel('false positive point')\n",
    "plt.title(\"false positive point\")"
   ]
  },
  {
   "cell_type": "markdown",
   "metadata": {},
   "source": [
    "#### pdf"
   ]
  },
  {
   "cell_type": "code",
   "execution_count": 46,
   "metadata": {},
   "outputs": [],
   "source": [
    "false_pt_df = data1.loc[false_positive]\n"
   ]
  },
  {
   "cell_type": "code",
   "execution_count": 47,
   "metadata": {},
   "outputs": [
    {
     "data": {
      "image/png": "[encoded data removed]",
      "text/plain": [
       "<Figure size 692.55x576 with 1 Axes>"
      ]
     },
     "metadata": {},
     "output_type": "display_data"
    }
   ],
   "source": [
    "import warnings\n",
    "# adding column\n",
    "\n",
    "\n",
    "# Op_Year\n",
    "\n",
    "warnings.filterwarnings('ignore')\n",
    "\n",
    "sns.FacetGrid(false_pt_df, hue=\"project_is_approved\", size=8) \\\n",
    "   .map(sns.distplot, \"teacher_number_of_previously_posted_projects\") \\\n",
    "   .add_legend()\\\n",
    "   .set(xlabel='teachers ', ylabel='count');\n",
    "plt.title(\"PDF of teacher numbers of previously posted projects of false positive data points  \")\n",
    "plt.show();\n"
   ]
  },
  {
   "cell_type": "markdown",
   "metadata": {},
   "source": [
    "**observation:**\n",
    "\n",
    "        > most of teacher did not previously posted poject classied as positive pts by the model\n",
    "        "
   ]
  },
  {
   "cell_type": "markdown",
   "metadata": {},
   "source": [
    "### set_2  features   \n",
    "feature - Set 2: categorical, numerical features + preprocessed_essay (TFIDF W2V) + Sentiment scores(preprocessed_essay)"
   ]
  },
  {
   "cell_type": "code",
   "execution_count": 52,
   "metadata": {},
   "outputs": [],
   "source": [
    "import time\n"
   ]
  },
  {
   "cell_type": "code",
   "execution_count": 53,
   "metadata": {},
   "outputs": [
    {
     "name": "stdout",
     "output_type": "stream",
     "text": [
      "Wall time: 1h 20min 19s\n"
     ]
    }
   ],
   "source": [
    "%%time\n",
    "# 4. perform hyperparameter tuning and plot either heatmap or 3d plot.\n",
    "\n",
    "\n",
    "\n",
    "parameters = {'max_depth': [10, 30, 50, 70], 'min_child_samples':[10, 20, 40, 60], 'reg_lambda':[.001,.01,1,100] }\n",
    "\n",
    "model2 = lgb.LGBMClassifier( class_weight= 'balanced', n_estimators= 150)\n",
    "\n",
    "\n",
    "clf_hyper = GridSearchCV( model2, parameters, scoring = 'roc_auc', n_jobs = -1 , cv = 10 ).fit(S2_X_tr,y_train)\n",
    "\n",
    "\n"
   ]
  },
  {
   "cell_type": "code",
   "execution_count": 54,
   "metadata": {},
   "outputs": [
    {
     "name": "stdout",
     "output_type": "stream",
     "text": [
      "best parameter {'max_depth': 10, 'min_child_samples': 60, 'reg_lambda': 100}\n"
     ]
    }
   ],
   "source": [
    "print('best parameter',clf_hyper.best_params_)\n"
   ]
  },
  {
   "cell_type": "markdown",
   "metadata": {},
   "source": [
    "#### best model"
   ]
  },
  {
   "cell_type": "code",
   "execution_count": 63,
   "metadata": {},
   "outputs": [
    {
     "name": "stdout",
     "output_type": "stream",
     "text": [
      "Wall time: 7.18 s\n"
     ]
    },
    {
     "data": {
      "text/plain": [
       "(0.7289158224031622, 0.6147507653361037)"
      ]
     },
     "execution_count": 63,
     "metadata": {},
     "output_type": "execute_result"
    }
   ],
   "source": [
    "%%time\n",
    "\n",
    "best_m2 = lgb.LGBMClassifier(reg_lambda = 1000, max_depth =clf_hyper.best_params_['max_depth'],min_child_samples = clf_hyper.best_params_['min_child_samples'] ,class_weight= 'balanced', n_estimators= 80  )\n",
    "\n",
    "best_m2.fit(S2_X_tr,y_train)\n",
    "\n",
    "tr_y_pred = best_m2.predict(S2_X_tr)\n",
    "te_y_pred = best_m2.predict(S2_X_te)\n",
    "\n",
    "tr_accu_auc = roc_auc_score(y_train,tr_y_pred)\n",
    "te_accu_auc = roc_auc_score(y_test,te_y_pred)\n",
    "\n",
    "tr_accu_auc,te_accu_auc"
   ]
  },
  {
   "cell_type": "markdown",
   "metadata": {
    "id": "XmHih9-YiqLx"
   },
   "source": [
    "# <font color='red'> <b>Task - 2</b></font>"
   ]
  },
  {
   "cell_type": "code",
   "execution_count": 27,
   "metadata": {
    "id": "zk2-az7QiqLz"
   },
   "outputs": [
    {
     "name": "stdout",
     "output_type": "stream",
     "text": [
      "shape of dataset set1 (28000, 5016)\n",
      "after compressing (28000, 869)\n",
      "Wall time: 1.12 s\n"
     ]
    }
   ],
   "source": [
    "%%time\n",
    "# 1. write your code in following steps for task 2\n",
    "\n",
    "print(\"shape of dataset set1\",S1_X_tr.shape)\n",
    "\n",
    "S1_X_tr_cpy = S1_X_tr.toarray()\n",
    "imp_features = best_clf.feature_importances_\n",
    "\n",
    "# 2. select all non zero features\n",
    "list_idx = [i for i,x in enumerate(imp_features) if x>0  ]\n",
    "\n",
    "# 3. Update your dataset i.e. X_train,X_test and X_cv so that it contains all rows and only non zero features\n",
    "data_set_compress = S1_X_tr_cpy[:,list_idx]\n",
    "\n",
    "\n",
    "\n",
    "\n",
    "\n",
    "# split data\n",
    "X, X_cv, y, y_cv = train_test_split(data_set_compress, y_train, test_size=.20, stratify= y_train)\n",
    "\n",
    "print(\"after compressing\",data_set_compress.shape)"
   ]
  },
  {
   "cell_type": "code",
   "execution_count": 28,
   "metadata": {
    "scrolled": true
   },
   "outputs": [
    {
     "name": "stdout",
     "output_type": "stream",
     "text": [
      "best parameter {'max_depth': 30, 'min_child_samples': 40}\n",
      "Wall time: 23min 11s\n"
     ]
    }
   ],
   "source": [
    "%%time\n",
    "# 4. perform hyperparameter tuning and plot either heatmap or 3d plot.\n",
    "\n",
    "parameters = {'max_depth': [1, 3, 10, 30], 'min_child_samples':[10, 20, 40, 80] }\n",
    "\n",
    "parameters = {'max_depth': [10, 30, 50, 70], 'min_child_samples':[10, 20, 40, 60],  }\n",
    "\n",
    "model = lgb.LGBMClassifier( class_weight= 'balanced', n_estimators= 150)\n",
    "\n",
    "\n",
    "clf_hyper3 = GridSearchCV( model, parameters, scoring = 'roc_auc', n_jobs = 1 , cv = 10 ).fit(X,y)\n",
    "\n",
    "\n",
    "\n",
    "\n",
    "\n",
    "print('best parameter',clf_hyper3.best_params_)\n"
   ]
  },
  {
   "attachments": {
    "image.png": {
     "image/png": "[encoded data removed]"
    }
   },
   "cell_type": "markdown",
   "metadata": {},
   "source": [
    "![image.png](attachment:image.png)"
   ]
  },
  {
   "cell_type": "markdown",
   "metadata": {},
   "source": [
    "\n",
    "### 5. Fit the best model. Plot ROC AUC curve and confusion matrix similar to model 1.\n"
   ]
  },
  {
   "cell_type": "code",
   "execution_count": 35,
   "metadata": {},
   "outputs": [
    {
     "data": {
      "text/plain": [
       "(0.6876605696006691, 0.6399886654918001)"
      ]
     },
     "execution_count": 35,
     "metadata": {},
     "output_type": "execute_result"
    }
   ],
   "source": [
    "# best_m3 = GradientBoostingClassifier(max_depth = clf_hyper2.best_params_['max_depth'], min_samples_split =clf_hyper2.best_params_['min_samples_split'])\n",
    "# best_m3 = GradientBoostingClassifier(max_depth = 30, min_samples_split =40, reg_lambda = 1000)\n",
    "best_m3 = lgb.LGBMClassifier(reg_lambda = 10000, max_depth =30,min_child_samples = 40 ,class_weight= 'balanced', n_estimators= 100  )\n",
    "\n",
    "best_m3.fit(X,y)\n",
    "\n",
    "tr_y_pred = best_m3.predict(X)\n",
    "te_y_pred = best_m3.predict(X_cv)\n",
    "\n",
    "tr_accu_auc = roc_auc_score(y,tr_y_pred)\n",
    "te_accu_auc = roc_auc_score(y_cv,te_y_pred)\n",
    "\n",
    "tr_accu_auc,te_accu_auc"
   ]
  },
  {
   "cell_type": "markdown",
   "metadata": {},
   "source": [
    "#### ROC Curve"
   ]
  },
  {
   "cell_type": "code",
   "execution_count": 36,
   "metadata": {},
   "outputs": [],
   "source": [
    "# predicting probability\n",
    "tr_y_prob = best_m3.predict_proba(X)\n",
    "te_y_prob = best_m3.predict_proba(X_cv)\n",
    "\n",
    "# calculating roc curve\n",
    "fpr1, tpr1,_ = roc_curve(y, tr_y_prob[:,1])\n",
    "fpr2, tpr2,_ = roc_curve(y_cv, te_y_prob[:,1])\n"
   ]
  },
  {
   "cell_type": "code",
   "execution_count": 38,
   "metadata": {},
   "outputs": [
    {
     "data": {
      "image/png": "[encoded data removed]",
      "text/plain": [
       "<Figure size 432x288 with 1 Axes>"
      ]
     },
     "metadata": {
      "needs_background": "light"
     },
     "output_type": "display_data"
    }
   ],
   "source": [
    "from sklearn.metrics import auc\n",
    "\n",
    "plt.plot(fpr2,tpr2, label= \"train %0.2f\"% auc(fpr1,tpr1))\n",
    "plt.plot(fpr1,tpr1, label= \"test %0.2f\"% auc(fpr2,tpr2))\n",
    "\n",
    "plt.xlabel(\"tpr rate\")\n",
    "plt.ylabel(\"fpr rate\")\n",
    "plt.legend()\n",
    "plt.title(\"ROC Curve on pridicted y data by model performed on set1 with feature selection \")\n",
    "\n",
    "plt.grid()\n",
    "plt.show()"
   ]
  },
  {
   "cell_type": "markdown",
   "metadata": {},
   "source": [
    "#### confusion matrix"
   ]
  },
  {
   "cell_type": "code",
   "execution_count": null,
   "metadata": {
    "scrolled": true
   },
   "outputs": [],
   "source": [
    "tr_cm = confusion_matrix(y,tr_y_pred)\n",
    "te_cm = confusion_matrix(y_cv,te_y_pred)\n",
    "\n",
    "tr_cm,te_cm"
   ]
  },
  {
   "cell_type": "markdown",
   "metadata": {
    "id": "WRDi4wd8iqL2"
   },
   "source": [
    "### Tabulate your results\n"
   ]
  },
  {
   "cell_type": "code",
   "execution_count": null,
   "metadata": {},
   "outputs": [],
   "source": [
    "# !pip install prettytable"
   ]
  },
  {
   "cell_type": "code",
   "execution_count": 44,
   "metadata": {
    "scrolled": false
   },
   "outputs": [
    {
     "name": "stdout",
     "output_type": "stream",
     "text": [
      "+--------------------+----------------+-----------------------------------------------------------------+-----------+-----------+\n",
      "|     Vectorizer     |     Model      |                         Hyper Parameter                         | Train AUC |  Test AUC |\n",
      "+--------------------+----------------+-----------------------------------------------------------------+-----------+-----------+\n",
      "|       TFIDF        | Decision Tree  |            {max_depth :10 ,  min_samples_split :500}            |   0.6571  |   0.5796  |\n",
      "|     TFIDF W2V      | Decision Tree  |             {'max_depth': 3, 'min_samples_split': 5}            |   0.5926  |   0.5689  |\n",
      "| TFIDF -imp feature | Decision Tree  |            {'max_depth': 10, 'min_samples_split': 500}          |   0.6678  |  0.5762   |\n",
      "|                    |                |                                                                 |           |           |\n",
      "|     TFIDF + rc     | LGBMClassifier |  {'max_depth': 30, 'min_child_samples': 80, 'reg_lambda': 1000} |   0.6831  |   0.6261  |\n",
      "|   TFIDF-W2V + rc   | LGBMClassifier |  {'max_depth': 10, 'min_child_samples': 60, 'reg_lambda': 1000} |   0.7289  |   0.6147  |\n",
      "| TFIDF-imp feature  | LGBMClassifier | {'max_depth': 30, 'min_child_samples': 40, 'reg_lambda': 10000} |   0.6876  |   0.6399  |\n",
      "+--------------------+----------------+-----------------------------------------------------------------+-----------+-----------+\n"
     ]
    }
   ],
   "source": [
    "from prettytable import PrettyTable\n",
    "  \n",
    "# Specify the Column Names while initializing the Table\n",
    "myTable = PrettyTable([\"Vectorizer\", \"Model\", \"Hyper Parameter\",\"Train AUC\",\" Test AUC\" ])\n",
    "  \n",
    "# Add rows\n",
    "myTable.add_rows(\n",
    "    [\n",
    "         \n",
    "        [\"TFIDF\", \"Decision Tree\", \"{max_depth :10 ,  min_samples_split :500}\",\" 0.6571\",\"0.5796\" ],\n",
    "        \n",
    "        [\"TFIDF W2V\", \"Decision Tree\", \" {'max_depth': 3, 'min_samples_split': 5}\",\" 0.5926\",\"0.5689\" ],\n",
    "        \n",
    "        [\"TFIDF -imp feature\", \"Decision Tree\", \" {'max_depth': 10, 'min_samples_split': 500}\",\" 0.6678\",\"0.5762 \\n\" ],\n",
    "    \n",
    "        [\"TFIDF + rc\", \"LGBMClassifier\", \"{'max_depth': 30, 'min_child_samples': 80, 'reg_lambda': 10000}\",\"0.6831\",\"0.6261\" ],\n",
    "        [\"TFIDF-W2V + rc\", \"LGBMClassifier\", \"{'max_depth': 10, 'min_child_samples': 60, 'reg_lambda': 1000}\",\" 0.7289\",\"0.6147\" ],\n",
    "        [\"TFIDF-imp feature\", \"LGBMClassifier\", \"{'max_depth': 30, 'min_child_samples': 40, 'reg_lambda': 10000}\",\"0.6876\",\"0.6399\" ],\n",
    "\n",
    "    \n",
    "    \n",
    "    ]\n",
    ")\n",
    "\n",
    "print(myTable)\n",
    "\n",
    "\n"
   ]
  },
  {
   "cell_type": "markdown",
   "metadata": {},
   "source": [
    "#### note :\n",
    "<!-- without given class weightage model is very week  -->"
   ]
  }
 ],
 "metadata": {
  "colab": {
   "collapsed_sections": [],
   "name": "Assignment_DT_Instructions.ipynb",
   "provenance": []
  },
  "kernelspec": {
   "display_name": "Python 3",
   "language": "python",
   "name": "python3"
  },
  "language_info": {
   "codemirror_mode": {
    "name": "ipython",
    "version": 3
   },
   "file_extension": ".py",
   "mimetype": "text/x-python",
   "name": "python",
   "nbconvert_exporter": "python",
   "pygments_lexer": "ipython3",
   "version": "3.8.5"
  }
 },
 "nbformat": 4,
 "nbformat_minor": 1
}
